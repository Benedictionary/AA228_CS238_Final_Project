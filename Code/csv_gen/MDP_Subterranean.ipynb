{
 "cells": [
  {
   "cell_type": "code",
   "execution_count": null,
   "id": "fb96ab8a",
   "metadata": {},
   "outputs": [],
   "source": [
    "using POMDPs\n",
    "using POMDPModels\n",
    "\n",
    "using CSV\n",
    "using DataFrames\n",
    "using Random\n",
    "\n",
    "using DiscreteValueIteration\n",
    "\n",
    "display(\"Begin MDP Solver\")\n",
    "\n",
    "df = DataFrame(CSV.File(\"handdrawn.csv\"))\n",
    "\n",
    "df_Matrix = Matrix(df)\n",
    "state_row = df_Matrix[:,2]\n",
    "state_col = df_Matrix[:,3]\n",
    "reward_Vec = df_Matrix[:,6]\n",
    "reward = Dict(GWPos(state_row[1], state_col[1]) => reward_Vec[1]) \n",
    "\n",
    "for i = 2:length(state_row)\n",
    "   reward[GWPos(state_row[i], state_col[i])] = reward_Vec[i] \n",
    "end    \n",
    "\n",
    "mdp = SimpleGridWorld(\n",
    "    size = (10,10),\n",
    "    rewards = reward,\n",
    "    tprob = 0.9,\n",
    "    discount = 0.9\n",
    ")\n",
    "\n",
    "solver = ValueIterationSolver(max_iterations=10000, belres=1e-6, verbose=true) # creates the solver\n",
    "policy = solve(solver, mdp) # runs value iterations"
   ]
  }
 ],
 "metadata": {
  "kernelspec": {
   "display_name": "Julia 1.8.1",
   "language": "julia",
   "name": "julia-1.8"
  },
  "language_info": {
   "file_extension": ".jl",
   "mimetype": "application/julia",
   "name": "julia",
   "version": "1.8.1"
  }
 },
 "nbformat": 4,
 "nbformat_minor": 5
}
